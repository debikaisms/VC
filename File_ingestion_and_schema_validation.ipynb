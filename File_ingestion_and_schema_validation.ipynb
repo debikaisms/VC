{
  "nbformat": 4,
  "nbformat_minor": 0,
  "metadata": {
    "colab": {
      "provenance": [],
      "authorship_tag": "ABX9TyMSccwSQamgM/oqh82FBpCH",
      "include_colab_link": true
    },
    "kernelspec": {
      "name": "python3",
      "display_name": "Python 3"
    },
    "language_info": {
      "name": "python"
    }
  },
  "cells": [
    {
      "cell_type": "markdown",
      "metadata": {
        "id": "view-in-github",
        "colab_type": "text"
      },
      "source": [
        "<a href=\"https://colab.research.google.com/github/debikaisms/VC/blob/main/File_ingestion_and_schema_validation.ipynb\" target=\"_parent\"><img src=\"https://colab.research.google.com/assets/colab-badge.svg\" alt=\"Open In Colab\"/></a>"
      ]
    },
    {
      "cell_type": "code",
      "execution_count": 2,
      "metadata": {
        "id": "zc6a40yXYMh3"
      },
      "outputs": [],
      "source": [
        "import pandas as pd\n",
        "import dask.dataframe as dd\n",
        "\n",
        "\n",
        "# Pandas\n",
        "pandas_df = pd.read_csv('Electric_Vehicle_Population_Data.csv')\n",
        "\n",
        "# Dask\n",
        "dask_df = dd.read_csv('Electric_Vehicle_Population_Data.csv')\n",
        "\n",
        "\n"
      ]
    },
    {
      "cell_type": "code",
      "source": [
        "def clean_column_names(df):\n",
        "    df.columns = df.columns.str.replace('[^\\w\\s]', '').str.strip()\n",
        "    return df\n",
        "\n",
        "pandas_df_cleaned = clean_column_names(pandas_df)\n",
        "dask_df_cleaned = clean_column_names(dask_df)"
      ],
      "metadata": {
        "colab": {
          "base_uri": "https://localhost:8080/"
        },
        "id": "7rRpyq0WUtrz",
        "outputId": "e4fb8d9e-62fb-4d98-ff5a-6062e484f941"
      },
      "execution_count": 3,
      "outputs": [
        {
          "output_type": "stream",
          "name": "stderr",
          "text": [
            "<ipython-input-3-8fff6a072334>:2: FutureWarning: The default value of regex will change from True to False in a future version.\n",
            "  df.columns = df.columns.str.replace('[^\\w\\s]', '').str.strip()\n",
            "<ipython-input-3-8fff6a072334>:2: FutureWarning: The default value of regex will change from True to False in a future version.\n",
            "  df.columns = df.columns.str.replace('[^\\w\\s]', '').str.strip()\n"
          ]
        }
      ]
    },
    {
      "cell_type": "code",
      "source": [
        "import yaml\n",
        "\n",
        "column_names = pandas_df_cleaned.columns.tolist()\n",
        "\n",
        "with open('schema.yaml', 'w') as yaml_file:\n",
        "    yaml.dump({'columns': column_names}, yaml_file)"
      ],
      "metadata": {
        "id": "lvcoRtUvU5Wa"
      },
      "execution_count": 4,
      "outputs": []
    },
    {
      "cell_type": "code",
      "source": [
        "with open('schema.yaml', 'r') as yaml_file:\n",
        "    schema = yaml.safe_load(yaml_file)\n",
        "\n",
        "expected_columns = schema['columns']\n",
        "actual_columns = pandas_df_cleaned.columns.tolist()\n",
        "\n",
        "if expected_columns == actual_columns:\n",
        "    print(\"Column validation successful\")\n",
        "else:\n",
        "    print(\"Column validation failed\")\n"
      ],
      "metadata": {
        "colab": {
          "base_uri": "https://localhost:8080/"
        },
        "id": "o2s81rtpU94k",
        "outputId": "0b8ed116-c8ef-4fee-a91b-3712d5296552"
      },
      "execution_count": 5,
      "outputs": [
        {
          "output_type": "stream",
          "name": "stdout",
          "text": [
            "Column validation successful\n"
          ]
        }
      ]
    },
    {
      "cell_type": "code",
      "source": [
        "pandas_df_cleaned.to_csv('output_file.txt.gz', sep='|', index=False, compression='gzip')\n"
      ],
      "metadata": {
        "id": "WTrOADS5VCDt"
      },
      "execution_count": 6,
      "outputs": []
    },
    {
      "cell_type": "code",
      "source": [
        "import os\n",
        "\n",
        "total_rows = len(pandas_df_cleaned)\n",
        "total_columns = len(pandas_df_cleaned.columns)\n",
        "file_size = os.path.getsize('output_file.txt.gz')\n",
        "\n",
        "print(f\"Total number of rows: {total_rows}\")\n",
        "print(f\"Total number of columns: {total_columns}\")\n",
        "print(f\"File size: {file_size} bytes\")\n"
      ],
      "metadata": {
        "colab": {
          "base_uri": "https://localhost:8080/"
        },
        "id": "JZWfQRUEVHO9",
        "outputId": "5918aba0-5d5f-4897-e110-568209849842"
      },
      "execution_count": 7,
      "outputs": [
        {
          "output_type": "stream",
          "name": "stdout",
          "text": [
            "Total number of rows: 138779\n",
            "Total number of columns: 17\n",
            "File size: 4853952 bytes\n"
          ]
        }
      ]
    }
  ]
}